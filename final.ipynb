{
 "cells": [
  {
   "cell_type": "markdown",
   "metadata": {},
   "source": [
    "# CMSC320 Final Project: Chess Data Analysis\n",
    "##### *Mohammad Durrani and Pranav Shah*\n",
    "\n",
    "### Contents\n",
    "1. [Introduction](##1.-Introduction)\n",
    "2. [Required Tools](##2.-Required-Tools)\n",
    "3. [About The Data](##3.-About-The-Data)\n",
    "4. [Data Collection: Scraping](##4.-Data-Collection:-Scraping)\n",
    "5. [Data Processing: Cleaning](##5.-Data-Processing:-Cleaning)\n",
    "6. [Exploratory Data Analysis](##6.-Exploratory-Data-Analysis)\n",
    "7. [Future Work and Conclusion](##7.-Future-Work-and-Conclusion)\n",
    "8. [References and Additional Resources](##8.-References-and-Additional-Resources)"
   ]
  },
  {
   "cell_type": "markdown",
   "metadata": {},
   "source": [
    "## 1. Introduction"
   ]
  },
  {
   "cell_type": "markdown",
   "metadata": {},
   "source": [
    "## 2. Required Libraries"
   ]
  },
  {
   "cell_type": "code",
   "execution_count": 9,
   "metadata": {},
   "outputs": [
    {
     "name": "stdout",
     "output_type": "stream",
     "text": [
      "Requirement already satisfied: pandas in c:\\users\\mdurr\\appdata\\local\\programs\\python\\python311\\lib\\site-packages (2.1.4)\n",
      "Requirement already satisfied: numpy<2,>=1.23.2 in c:\\users\\mdurr\\appdata\\local\\programs\\python\\python311\\lib\\site-packages (from pandas) (1.24.3)\n",
      "Requirement already satisfied: python-dateutil>=2.8.2 in c:\\users\\mdurr\\appdata\\local\\programs\\python\\python311\\lib\\site-packages (from pandas) (2.8.2)\n",
      "Requirement already satisfied: pytz>=2020.1 in c:\\users\\mdurr\\appdata\\local\\programs\\python\\python311\\lib\\site-packages (from pandas) (2023.3.post1)\n",
      "Requirement already satisfied: tzdata>=2022.1 in c:\\users\\mdurr\\appdata\\local\\programs\\python\\python311\\lib\\site-packages (from pandas) (2023.4)\n",
      "Requirement already satisfied: six>=1.5 in c:\\users\\mdurr\\appdata\\local\\programs\\python\\python311\\lib\\site-packages (from python-dateutil>=2.8.2->pandas) (1.16.0)\n"
     ]
    },
    {
     "name": "stderr",
     "output_type": "stream",
     "text": [
      "\n",
      "[notice] A new release of pip is available: 23.1.2 -> 24.0\n",
      "[notice] To update, run: python.exe -m pip install --upgrade pip\n"
     ]
    },
    {
     "name": "stdout",
     "output_type": "stream",
     "text": [
      "Requirement already satisfied: matplotlib in c:\\users\\mdurr\\appdata\\local\\programs\\python\\python311\\lib\\site-packages (3.8.4)"
     ]
    },
    {
     "name": "stderr",
     "output_type": "stream",
     "text": [
      "\n",
      "[notice] A new release of pip is available: 23.1.2 -> 24.0\n",
      "[notice] To update, run: python.exe -m pip install --upgrade pip\n"
     ]
    },
    {
     "name": "stdout",
     "output_type": "stream",
     "text": [
      "\n",
      "Requirement already satisfied: contourpy>=1.0.1 in c:\\users\\mdurr\\appdata\\local\\programs\\python\\python311\\lib\\site-packages (from matplotlib) (1.2.1)\n",
      "Requirement already satisfied: cycler>=0.10 in c:\\users\\mdurr\\appdata\\local\\programs\\python\\python311\\lib\\site-packages (from matplotlib) (0.12.1)\n",
      "Requirement already satisfied: fonttools>=4.22.0 in c:\\users\\mdurr\\appdata\\local\\programs\\python\\python311\\lib\\site-packages (from matplotlib) (4.51.0)\n",
      "Requirement already satisfied: kiwisolver>=1.3.1 in c:\\users\\mdurr\\appdata\\local\\programs\\python\\python311\\lib\\site-packages (from matplotlib) (1.4.5)\n",
      "Requirement already satisfied: numpy>=1.21 in c:\\users\\mdurr\\appdata\\local\\programs\\python\\python311\\lib\\site-packages (from matplotlib) (1.24.3)\n",
      "Requirement already satisfied: packaging>=20.0 in c:\\users\\mdurr\\appdata\\local\\programs\\python\\python311\\lib\\site-packages (from matplotlib) (23.2)\n",
      "Requirement already satisfied: pillow>=8 in c:\\users\\mdurr\\appdata\\local\\programs\\python\\python311\\lib\\site-packages (from matplotlib) (10.0.1)\n",
      "Requirement already satisfied: pyparsing>=2.3.1 in c:\\users\\mdurr\\appdata\\local\\programs\\python\\python311\\lib\\site-packages (from matplotlib) (3.1.1)\n",
      "Requirement already satisfied: python-dateutil>=2.7 in c:\\users\\mdurr\\appdata\\local\\programs\\python\\python311\\lib\\site-packages (from matplotlib) (2.8.2)\n",
      "Requirement already satisfied: six>=1.5 in c:\\users\\mdurr\\appdata\\local\\programs\\python\\python311\\lib\\site-packages (from python-dateutil>=2.7->matplotlib) (1.16.0)\n"
     ]
    },
    {
     "name": "stderr",
     "output_type": "stream",
     "text": [
      "\n",
      "[notice] A new release of pip is available: 23.1.2 -> 24.0\n",
      "[notice] To update, run: python.exe -m pip install --upgrade pip\n"
     ]
    },
    {
     "name": "stdout",
     "output_type": "stream",
     "text": [
      "Requirement already satisfied: numpy in c:\\users\\mdurr\\appdata\\local\\programs\\python\\python311\\lib\\site-packages (1.24.3)\n",
      "Requirement already satisfied: scikit-learn in c:\\users\\mdurr\\appdata\\local\\programs\\python\\python311\\lib\\site-packages (1.4.2)\n",
      "Requirement already satisfied: numpy>=1.19.5 in c:\\users\\mdurr\\appdata\\local\\programs\\python\\python311\\lib\\site-packages (from scikit-learn) (1.24.3)\n",
      "Requirement already satisfied: scipy>=1.6.0 in c:\\users\\mdurr\\appdata\\local\\programs\\python\\python311\\lib\\site-packages (from scikit-learn) (1.13.0)\n",
      "Requirement already satisfied: joblib>=1.2.0 in c:\\users\\mdurr\\appdata\\local\\programs\\python\\python311\\lib\\site-packages (from scikit-learn) (1.4.0)\n",
      "Requirement already satisfied: threadpoolctl>=2.0.0 in c:\\users\\mdurr\\appdata\\local\\programs\\python\\python311\\lib\\site-packages (from scikit-learn) (3.4.0)\n"
     ]
    },
    {
     "name": "stderr",
     "output_type": "stream",
     "text": [
      "\n",
      "[notice] A new release of pip is available: 23.1.2 -> 24.0\n",
      "[notice] To update, run: python.exe -m pip install --upgrade pip\n"
     ]
    },
    {
     "name": "stdout",
     "output_type": "stream",
     "text": [
      "Requirement already satisfied: chess in c:\\users\\mdurr\\appdata\\local\\programs\\python\\python311\\lib\\site-packages (1.10.0)"
     ]
    },
    {
     "name": "stderr",
     "output_type": "stream",
     "text": [
      "\n",
      "[notice] A new release of pip is available: 23.1.2 -> 24.0\n",
      "[notice] To update, run: python.exe -m pip install --upgrade pip\n"
     ]
    },
    {
     "name": "stdout",
     "output_type": "stream",
     "text": [
      "\n",
      "Collecting category-encoders\n",
      "  Downloading category_encoders-2.6.3-py2.py3-none-any.whl (81 kB)\n",
      "                                              0.0/81.9 kB ? eta -:--:--\n",
      "     ---------------------------------------- 81.9/81.9 kB 2.3 MB/s eta 0:00:00\n",
      "Requirement already satisfied: numpy>=1.14.0 in c:\\users\\mdurr\\appdata\\local\\programs\\python\\python311\\lib\\site-packages (from category-encoders) (1.24.3)\n",
      "Requirement already satisfied: scikit-learn>=0.20.0 in c:\\users\\mdurr\\appdata\\local\\programs\\python\\python311\\lib\\site-packages (from category-encoders) (1.4.2)\n",
      "Requirement already satisfied: scipy>=1.0.0 in c:\\users\\mdurr\\appdata\\local\\programs\\python\\python311\\lib\\site-packages (from category-encoders) (1.13.0)\n",
      "Collecting statsmodels>=0.9.0 (from category-encoders)\n",
      "  Downloading statsmodels-0.14.2-cp311-cp311-win_amd64.whl (9.9 MB)\n",
      "                                              0.0/9.9 MB ? eta -:--:--\n",
      "                                              0.2/9.9 MB 5.3 MB/s eta 0:00:02\n",
      "     -                                        0.3/9.9 MB 3.5 MB/s eta 0:00:03\n",
      "     --                                       0.6/9.9 MB 4.6 MB/s eta 0:00:03\n",
      "     ---                                      1.0/9.9 MB 5.5 MB/s eta 0:00:02\n",
      "     -----                                    1.4/9.9 MB 6.1 MB/s eta 0:00:02\n",
      "     -------                                  1.8/9.9 MB 6.8 MB/s eta 0:00:02\n",
      "     ---------                                2.3/9.9 MB 7.4 MB/s eta 0:00:02\n",
      "     -----------                              2.8/9.9 MB 7.9 MB/s eta 0:00:01\n",
      "     -------------                            3.3/9.9 MB 8.1 MB/s eta 0:00:01\n",
      "     --------------                           3.6/9.9 MB 7.9 MB/s eta 0:00:01\n",
      "     ----------------                         4.0/9.9 MB 7.9 MB/s eta 0:00:01\n",
      "     ------------------                       4.5/9.9 MB 8.1 MB/s eta 0:00:01\n",
      "     -------------------                      4.9/9.9 MB 8.3 MB/s eta 0:00:01\n",
      "     ----------------------                   5.4/9.9 MB 8.5 MB/s eta 0:00:01\n",
      "     -----------------------                  5.9/9.9 MB 8.5 MB/s eta 0:00:01\n",
      "     -------------------------                6.3/9.9 MB 8.6 MB/s eta 0:00:01\n",
      "     ----------------------------             7.0/9.9 MB 8.6 MB/s eta 0:00:01\n",
      "     ------------------------------           7.5/9.9 MB 8.8 MB/s eta 0:00:01\n",
      "     ---------------------------------        8.2/9.9 MB 9.0 MB/s eta 0:00:01\n",
      "     ----------------------------------       8.6/9.9 MB 9.0 MB/s eta 0:00:01\n",
      "     ------------------------------------     9.1/9.9 MB 8.9 MB/s eta 0:00:01\n",
      "     ---------------------------------------  9.8/9.9 MB 9.1 MB/s eta 0:00:01\n",
      "     ---------------------------------------  9.9/9.9 MB 9.0 MB/s eta 0:00:01\n",
      "     ---------------------------------------- 9.9/9.9 MB 8.4 MB/s eta 0:00:00\n",
      "Requirement already satisfied: pandas>=1.0.5 in c:\\users\\mdurr\\appdata\\local\\programs\\python\\python311\\lib\\site-packages (from category-encoders) (2.1.4)\n",
      "Collecting patsy>=0.5.1 (from category-encoders)\n",
      "  Downloading patsy-0.5.6-py2.py3-none-any.whl (233 kB)\n",
      "                                              0.0/233.9 kB ? eta -:--:--\n",
      "     ------------------------------------- 233.9/233.9 kB 14.0 MB/s eta 0:00:00\n",
      "Requirement already satisfied: python-dateutil>=2.8.2 in c:\\users\\mdurr\\appdata\\local\\programs\\python\\python311\\lib\\site-packages (from pandas>=1.0.5->category-encoders) (2.8.2)\n",
      "Requirement already satisfied: pytz>=2020.1 in c:\\users\\mdurr\\appdata\\local\\programs\\python\\python311\\lib\\site-packages (from pandas>=1.0.5->category-encoders) (2023.3.post1)\n",
      "Requirement already satisfied: tzdata>=2022.1 in c:\\users\\mdurr\\appdata\\local\\programs\\python\\python311\\lib\\site-packages (from pandas>=1.0.5->category-encoders) (2023.4)\n",
      "Requirement already satisfied: six in c:\\users\\mdurr\\appdata\\local\\programs\\python\\python311\\lib\\site-packages (from patsy>=0.5.1->category-encoders) (1.16.0)\n",
      "Requirement already satisfied: joblib>=1.2.0 in c:\\users\\mdurr\\appdata\\local\\programs\\python\\python311\\lib\\site-packages (from scikit-learn>=0.20.0->category-encoders) (1.4.0)\n",
      "Requirement already satisfied: threadpoolctl>=2.0.0 in c:\\users\\mdurr\\appdata\\local\\programs\\python\\python311\\lib\\site-packages (from scikit-learn>=0.20.0->category-encoders) (3.4.0)\n",
      "Requirement already satisfied: packaging>=21.3 in c:\\users\\mdurr\\appdata\\local\\programs\\python\\python311\\lib\\site-packages (from statsmodels>=0.9.0->category-encoders) (23.2)\n",
      "Installing collected packages: patsy, statsmodels, category-encoders\n",
      "Successfully installed category-encoders-2.6.3 patsy-0.5.6 statsmodels-0.14.2\n"
     ]
    },
    {
     "name": "stderr",
     "output_type": "stream",
     "text": [
      "\n",
      "[notice] A new release of pip is available: 23.1.2 -> 24.0\n",
      "[notice] To update, run: python.exe -m pip install --upgrade pip\n"
     ]
    }
   ],
   "source": [
    "import sys\n",
    "!{sys.executable} -m pip install pandas\n",
    "!{sys.executable} -m pip install matplotlib\n",
    "!{sys.executable} -m pip install numpy\n",
    "!{sys.executable} -m pip install scikit-learn\n",
    "!{sys.executable} -m pip install chess\n",
    "!{sys.executable} -m pip install category-encoders"
   ]
  },
  {
   "cell_type": "markdown",
   "metadata": {},
   "source": [
    "## 3. About The Data"
   ]
  },
  {
   "cell_type": "markdown",
   "metadata": {},
   "source": [
    "## 4. Data Collection: Scraping"
   ]
  },
  {
   "cell_type": "code",
   "execution_count": null,
   "metadata": {},
   "outputs": [],
   "source": [
    "import chess.pgn\n",
    "import pandas as pd\n",
    "import glob\n",
    "import numpy as np\n",
    "\n",
    "#pgnFilePath =  r\"\\\\wsl.localhost\\Ubuntu\\home\\mdurrani\\lichess_db_standard_rated_2024-03.pgn\"\n",
    "pgnFilePath = r'./data/*.pgn'\n",
    "outputFilePath = \"./evaluations.csv\"\n",
    "totalGameCount = 0\n",
    "totalEvalGameCount = 0\n",
    "fileList = [] #glob.glob(pgnFilePath) # modify this line for the directory that has all the pgn files \n",
    "rows_list = [] # list of dictionaries for each game \n",
    "for file in fileList:\n",
    "    pgn = open(fileList[0])\n",
    "    game = chess.pgn.read_game(pgn)\n",
    "    while game != None:\n",
    "        totalGameCount += 1\n",
    "        variations = game.variations # list of either the eval or clock score\n",
    "        if(totalGameCount % 2000 == 0): # print every 2000 games\n",
    "            print(\"Total Game Count: \", totalGameCount)\n",
    "            print(\"Eval Game Count: \", totalEvalGameCount)\n",
    "        if(totalGameCount % 1000000 == 0):\n",
    "            df = pd.DataFrame(rows_list) # add everything to the dataframe \n",
    "            df.to_csv(outputFilePath)\n",
    "        if(len(variations) > 0 and 'eval' in variations[0].comment): # if this game was evaluated by a computer, add it\n",
    "            totalEvalGameCount+=1\n",
    "            h = game.headers\n",
    "                \n",
    "            # adding a dictionary is faster than appending to a dataframe \n",
    "            rows_list.append({\n",
    "                \"UTCDate\": h.get(\"UTCDate\", np.NaN),\n",
    "                \"UTCTime\": h.get(\"UTCTime\", np.NaN),\n",
    "                'WhiteElo': h.get('WhiteElo', np.NaN),\n",
    "                'BlackElo': h.get('BlackElo', np.NaN),\n",
    "                \"Opening\": h.get(\"Opening\", np.NaN),\n",
    "                \"ECO\": h.get(\"ECO\", np.NaN),\n",
    "                'Result': h.get('Result', np.NaN),\n",
    "                \"Termination\": h.get(\"Termination\", np.NaN),\n",
    "                \"Variations\": str(variations[0]) if variations else np.NaN,\n",
    "                'WhiteRatingDiff': h.get('WhiteRatingDiff', np.NaN),\n",
    "                'BlackRatingDiff': h.get(\"BlackRatingDiff\", np.NaN)\n",
    "            })\n",
    "\n",
    "        # Iterator reading next game\n",
    "        game = chess.pgn.read_game(pgn)          "
   ]
  },
  {
   "cell_type": "markdown",
   "metadata": {},
   "source": [
    "## 5. Data Processing: Cleaning"
   ]
  },
  {
   "cell_type": "markdown",
   "metadata": {},
   "source": [
    "## 6. Exploratory Data Analysis"
   ]
  },
  {
   "cell_type": "code",
   "execution_count": 21,
   "metadata": {},
   "outputs": [
    {
     "data": {
      "text/html": [
       "<div>\n",
       "<style scoped>\n",
       "    .dataframe tbody tr th:only-of-type {\n",
       "        vertical-align: middle;\n",
       "    }\n",
       "\n",
       "    .dataframe tbody tr th {\n",
       "        vertical-align: top;\n",
       "    }\n",
       "\n",
       "    .dataframe thead th {\n",
       "        text-align: right;\n",
       "    }\n",
       "</style>\n",
       "<table border=\"1\" class=\"dataframe\">\n",
       "  <thead>\n",
       "    <tr style=\"text-align: right;\">\n",
       "      <th></th>\n",
       "      <th>whiteMistakeDifferential</th>\n",
       "      <th>whiteTimeDifferential</th>\n",
       "      <th>whiteEloDifferential</th>\n",
       "      <th>whiteResult</th>\n",
       "      <th>ECO_0</th>\n",
       "      <th>ECO_1</th>\n",
       "      <th>ECO_2</th>\n",
       "      <th>ECO_3</th>\n",
       "      <th>ECO_4</th>\n",
       "      <th>ECO_5</th>\n",
       "      <th>ECO_6</th>\n",
       "      <th>ECO_7</th>\n",
       "      <th>ECO_8</th>\n",
       "    </tr>\n",
       "  </thead>\n",
       "  <tbody>\n",
       "    <tr>\n",
       "      <th>0</th>\n",
       "      <td>2</td>\n",
       "      <td>26</td>\n",
       "      <td>97</td>\n",
       "      <td>0.0</td>\n",
       "      <td>0</td>\n",
       "      <td>0</td>\n",
       "      <td>0</td>\n",
       "      <td>0</td>\n",
       "      <td>0</td>\n",
       "      <td>0</td>\n",
       "      <td>0</td>\n",
       "      <td>0</td>\n",
       "      <td>1</td>\n",
       "    </tr>\n",
       "    <tr>\n",
       "      <th>1</th>\n",
       "      <td>-1</td>\n",
       "      <td>-33</td>\n",
       "      <td>-128</td>\n",
       "      <td>1.0</td>\n",
       "      <td>0</td>\n",
       "      <td>0</td>\n",
       "      <td>0</td>\n",
       "      <td>0</td>\n",
       "      <td>0</td>\n",
       "      <td>0</td>\n",
       "      <td>0</td>\n",
       "      <td>1</td>\n",
       "      <td>0</td>\n",
       "    </tr>\n",
       "    <tr>\n",
       "      <th>2</th>\n",
       "      <td>-3</td>\n",
       "      <td>-495</td>\n",
       "      <td>406</td>\n",
       "      <td>1.0</td>\n",
       "      <td>0</td>\n",
       "      <td>0</td>\n",
       "      <td>0</td>\n",
       "      <td>0</td>\n",
       "      <td>0</td>\n",
       "      <td>0</td>\n",
       "      <td>0</td>\n",
       "      <td>1</td>\n",
       "      <td>1</td>\n",
       "    </tr>\n",
       "    <tr>\n",
       "      <th>3</th>\n",
       "      <td>1</td>\n",
       "      <td>-527</td>\n",
       "      <td>342</td>\n",
       "      <td>1.0</td>\n",
       "      <td>0</td>\n",
       "      <td>0</td>\n",
       "      <td>0</td>\n",
       "      <td>0</td>\n",
       "      <td>0</td>\n",
       "      <td>0</td>\n",
       "      <td>1</td>\n",
       "      <td>0</td>\n",
       "      <td>0</td>\n",
       "    </tr>\n",
       "    <tr>\n",
       "      <th>4</th>\n",
       "      <td>-3</td>\n",
       "      <td>121</td>\n",
       "      <td>441</td>\n",
       "      <td>1.0</td>\n",
       "      <td>0</td>\n",
       "      <td>0</td>\n",
       "      <td>0</td>\n",
       "      <td>0</td>\n",
       "      <td>0</td>\n",
       "      <td>0</td>\n",
       "      <td>1</td>\n",
       "      <td>0</td>\n",
       "      <td>1</td>\n",
       "    </tr>\n",
       "  </tbody>\n",
       "</table>\n",
       "</div>"
      ],
      "text/plain": [
       "   whiteMistakeDifferential  whiteTimeDifferential  whiteEloDifferential  \\\n",
       "0                         2                     26                    97   \n",
       "1                        -1                    -33                  -128   \n",
       "2                        -3                   -495                   406   \n",
       "3                         1                   -527                   342   \n",
       "4                        -3                    121                   441   \n",
       "\n",
       "   whiteResult  ECO_0  ECO_1  ECO_2  ECO_3  ECO_4  ECO_5  ECO_6  ECO_7  ECO_8  \n",
       "0          0.0      0      0      0      0      0      0      0      0      1  \n",
       "1          1.0      0      0      0      0      0      0      0      1      0  \n",
       "2          1.0      0      0      0      0      0      0      0      1      1  \n",
       "3          1.0      0      0      0      0      0      0      1      0      0  \n",
       "4          1.0      0      0      0      0      0      0      1      0      1  "
      ]
     },
     "execution_count": 21,
     "metadata": {},
     "output_type": "execute_result"
    }
   ],
   "source": [
    "import pandas as pd \n",
    "import re\n",
    "from sklearn import preprocessing\n",
    "import category_encoders as ce\n",
    "from sklearn.ensemble import RandomForestClassifier\n",
    "from sklearn.model_selection import train_test_split\n",
    "\n",
    "df= pd.read_csv(\"miniEvaluations.csv\")\n",
    "# Get white mistake differential from a game\n",
    "def getMistakeDifferential(variation):\n",
    "    # Find all evaluations\n",
    "    evalText = re.findall(r'%eval -?\\d.\\d*', variation)\n",
    "    # Truncate text and get float eval value\n",
    "    evalList = []\n",
    "    for eval in evalText:\n",
    "        evalList.append(float(eval.split(\" \")[1]))\n",
    "\n",
    "    # Find the mistake differential for white\n",
    "    evalDifference = 0\n",
    "    numberOfWhiteMistakes = 0\n",
    "    numberOfBlackMistakes = 0\n",
    "    for i in range(len(evalList)):\n",
    "        if i != 0:\n",
    "            evalDifference = evalList[i] - evalList[i-1]\n",
    "        if abs(evalDifference) > 1:\n",
    "            if i % 2 == 0:\n",
    "                numberOfWhiteMistakes += 1\n",
    "            else:\n",
    "                numberOfBlackMistakes += 1\n",
    "    whiteMistakeDifferential = numberOfWhiteMistakes - numberOfBlackMistakes\n",
    "    return whiteMistakeDifferential\n",
    "\n",
    "# Get white time differential from a game\n",
    "def getTimeDifferential(variation):\n",
    "    # Find all clock text\n",
    "    clockText = re.findall(r'%clk \\d:\\d{2}:\\d{2}', variation)\n",
    "    # Truncate text and get clock data in seconds\n",
    "    clockList = []\n",
    "    for clock in clockText:\n",
    "        time = clock.split(\" \")[1]\n",
    "        hr = int(time.split(\":\")[0])\n",
    "        min = int(time.split(\":\")[1])\n",
    "        sec = int(time.split(\":\")[2])\n",
    "        totalSeconds = hr * 3600 + min * 60 + sec\n",
    "        clockList.append(totalSeconds)\n",
    "\n",
    "    # Get clock differential\n",
    "    whiteTimeElapsed = 0\n",
    "    blackTimeElapsed = 0\n",
    "    # If less than 2 moves, then don't worry about calculating time elapsed\n",
    "    if len(clockList) >= 2:\n",
    "        whiteBeginClock = clockList[0]\n",
    "        blackBeginClock = clockList[1]\n",
    "        if len(clockList) % 2 == 0:\n",
    "            whiteEndClock = clockList[-2]\n",
    "            blackEndClock = clockList[-1]\n",
    "        else:\n",
    "            whiteEndClock = clockList[-1]\n",
    "            blackEndClock = clockList[-2]\n",
    "        whiteTimeElapsed = whiteBeginClock - whiteEndClock\n",
    "        blackTimeElapsed = blackBeginClock - blackEndClock\n",
    "\n",
    "    whiteTimeDifferential = whiteTimeElapsed - blackTimeElapsed\n",
    "\n",
    "    return whiteTimeDifferential\n",
    "\n",
    "# Turn string result into a number result from white's perspective   \n",
    "def getResultForWhite(result):\n",
    "    if result == \"0-1\":\n",
    "        return 0\n",
    "    elif result == \"1-0\":\n",
    "        return 1\n",
    "    else:\n",
    "        return 0.5\n",
    "    \n",
    "df[\"whiteMistakeDifferential\"] = df[\"Variations\"].apply(getMistakeDifferential)\n",
    "\n",
    "df[\"whiteTimeDifferential\"] = df[\"Variations\"].apply(getTimeDifferential)\n",
    "\n",
    "df[\"whiteEloDifferential\"] = df[\"WhiteElo\"] - df[\"BlackElo\"]\n",
    "\n",
    "df[\"whiteResult\"] = df[\"Result\"].apply(getResultForWhite)\n",
    "\n",
    "trainingDf = df.loc[:, [\"whiteMistakeDifferential\", \"whiteTimeDifferential\", \"whiteEloDifferential\", \"whiteResult\"]]\n",
    "\n",
    "label_encoder = ce.BinaryEncoder()\n",
    "bin_enc_df = label_encoder.fit_transform(df[\"ECO\"])\n",
    "trainingDf = trainingDf.join(bin_enc_df)\n",
    "\n",
    "\n",
    "\n",
    "X = trainingDf\n",
    "y = df['whiteResult']\n",
    "\n",
    "X_train, X_test, y_train, y_test = train_test_split(X, y, test_size=0.2, random_state=42)\n",
    "\n",
    "model = RandomForestClassifier()\n",
    "model.fit(X_train, y_train)\n",
    "\n",
    "predictions = model.predict(X_test)"
   ]
  },
  {
   "cell_type": "code",
   "execution_count": null,
   "metadata": {},
   "outputs": [],
   "source": []
  },
  {
   "cell_type": "markdown",
   "metadata": {},
   "source": [
    "## 7. Future Work and Considerations"
   ]
  },
  {
   "cell_type": "markdown",
   "metadata": {},
   "source": [
    "## 8. References and Additional Resources"
   ]
  }
 ],
 "metadata": {
  "kernelspec": {
   "display_name": "Python 3",
   "language": "python",
   "name": "python3"
  },
  "language_info": {
   "codemirror_mode": {
    "name": "ipython",
    "version": 3
   },
   "file_extension": ".py",
   "mimetype": "text/x-python",
   "name": "python",
   "nbconvert_exporter": "python",
   "pygments_lexer": "ipython3",
   "version": "3.11.3"
  }
 },
 "nbformat": 4,
 "nbformat_minor": 2
}
