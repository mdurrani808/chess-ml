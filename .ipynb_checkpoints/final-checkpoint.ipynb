{
 "cells": [
  {
   "cell_type": "markdown",
   "metadata": {},
   "source": [
    "# CMSC320 Final Project: Chess Data Analysis\n",
    "##### *Mohammad Durrani and Pranav Shah*\n",
    "\n",
    "### Contents\n",
    "1. [Introduction](##1.-Introduction)\n",
    "2. [Required Tools](##2.-Required-Tools)\n",
    "3. [About The Data](##3.-About-The-Data)\n",
    "4. [Data Collection: Scraping](##4.-Data-Collection:-Scraping)\n",
    "5. [Data Processing: Cleaning](##5.-Data-Processing:-Cleaning)\n",
    "6. [Exploratory Data Analysis](##6.-Exploratory-Data-Analysis)\n",
    "7. [Future Work and Conclusion](##7.-Future-Work-and-Conclusion)\n",
    "8. [References and Additional Resources](##8.-References-and-Additional-Resources)"
   ]
  },
  {
   "cell_type": "markdown",
   "metadata": {},
   "source": [
    "## 1. Introduction"
   ]
  },
  {
   "cell_type": "markdown",
   "metadata": {},
   "source": [
    "## 2. Required Libraries"
   ]
  },
  {
   "cell_type": "code",
   "execution_count": 9,
   "metadata": {},
   "outputs": [
    {
     "name": "stdout",
     "output_type": "stream",
     "text": [
      "Requirement already satisfied: pandas in c:\\users\\mdurr\\appdata\\local\\programs\\python\\python311\\lib\\site-packages (2.1.4)\n",
      "Requirement already satisfied: numpy<2,>=1.23.2 in c:\\users\\mdurr\\appdata\\local\\programs\\python\\python311\\lib\\site-packages (from pandas) (1.24.3)\n",
      "Requirement already satisfied: python-dateutil>=2.8.2 in c:\\users\\mdurr\\appdata\\local\\programs\\python\\python311\\lib\\site-packages (from pandas) (2.8.2)\n",
      "Requirement already satisfied: pytz>=2020.1 in c:\\users\\mdurr\\appdata\\local\\programs\\python\\python311\\lib\\site-packages (from pandas) (2023.3.post1)\n",
      "Requirement already satisfied: tzdata>=2022.1 in c:\\users\\mdurr\\appdata\\local\\programs\\python\\python311\\lib\\site-packages (from pandas) (2023.4)\n",
      "Requirement already satisfied: six>=1.5 in c:\\users\\mdurr\\appdata\\local\\programs\\python\\python311\\lib\\site-packages (from python-dateutil>=2.8.2->pandas) (1.16.0)\n"
     ]
    },
    {
     "name": "stderr",
     "output_type": "stream",
     "text": [
      "\n",
      "[notice] A new release of pip is available: 23.1.2 -> 24.0\n",
      "[notice] To update, run: python.exe -m pip install --upgrade pip\n"
     ]
    },
    {
     "name": "stdout",
     "output_type": "stream",
     "text": [
      "Requirement already satisfied: matplotlib in c:\\users\\mdurr\\appdata\\local\\programs\\python\\python311\\lib\\site-packages (3.8.4)"
     ]
    },
    {
     "name": "stderr",
     "output_type": "stream",
     "text": [
      "\n",
      "[notice] A new release of pip is available: 23.1.2 -> 24.0\n",
      "[notice] To update, run: python.exe -m pip install --upgrade pip\n"
     ]
    },
    {
     "name": "stdout",
     "output_type": "stream",
     "text": [
      "\n",
      "Requirement already satisfied: contourpy>=1.0.1 in c:\\users\\mdurr\\appdata\\local\\programs\\python\\python311\\lib\\site-packages (from matplotlib) (1.2.1)\n",
      "Requirement already satisfied: cycler>=0.10 in c:\\users\\mdurr\\appdata\\local\\programs\\python\\python311\\lib\\site-packages (from matplotlib) (0.12.1)\n",
      "Requirement already satisfied: fonttools>=4.22.0 in c:\\users\\mdurr\\appdata\\local\\programs\\python\\python311\\lib\\site-packages (from matplotlib) (4.51.0)\n",
      "Requirement already satisfied: kiwisolver>=1.3.1 in c:\\users\\mdurr\\appdata\\local\\programs\\python\\python311\\lib\\site-packages (from matplotlib) (1.4.5)\n",
      "Requirement already satisfied: numpy>=1.21 in c:\\users\\mdurr\\appdata\\local\\programs\\python\\python311\\lib\\site-packages (from matplotlib) (1.24.3)\n",
      "Requirement already satisfied: packaging>=20.0 in c:\\users\\mdurr\\appdata\\local\\programs\\python\\python311\\lib\\site-packages (from matplotlib) (23.2)\n",
      "Requirement already satisfied: pillow>=8 in c:\\users\\mdurr\\appdata\\local\\programs\\python\\python311\\lib\\site-packages (from matplotlib) (10.0.1)\n",
      "Requirement already satisfied: pyparsing>=2.3.1 in c:\\users\\mdurr\\appdata\\local\\programs\\python\\python311\\lib\\site-packages (from matplotlib) (3.1.1)\n",
      "Requirement already satisfied: python-dateutil>=2.7 in c:\\users\\mdurr\\appdata\\local\\programs\\python\\python311\\lib\\site-packages (from matplotlib) (2.8.2)\n",
      "Requirement already satisfied: six>=1.5 in c:\\users\\mdurr\\appdata\\local\\programs\\python\\python311\\lib\\site-packages (from python-dateutil>=2.7->matplotlib) (1.16.0)\n"
     ]
    },
    {
     "name": "stderr",
     "output_type": "stream",
     "text": [
      "\n",
      "[notice] A new release of pip is available: 23.1.2 -> 24.0\n",
      "[notice] To update, run: python.exe -m pip install --upgrade pip\n"
     ]
    },
    {
     "name": "stdout",
     "output_type": "stream",
     "text": [
      "Requirement already satisfied: numpy in c:\\users\\mdurr\\appdata\\local\\programs\\python\\python311\\lib\\site-packages (1.24.3)\n",
      "Requirement already satisfied: scikit-learn in c:\\users\\mdurr\\appdata\\local\\programs\\python\\python311\\lib\\site-packages (1.4.2)\n",
      "Requirement already satisfied: numpy>=1.19.5 in c:\\users\\mdurr\\appdata\\local\\programs\\python\\python311\\lib\\site-packages (from scikit-learn) (1.24.3)\n",
      "Requirement already satisfied: scipy>=1.6.0 in c:\\users\\mdurr\\appdata\\local\\programs\\python\\python311\\lib\\site-packages (from scikit-learn) (1.13.0)\n",
      "Requirement already satisfied: joblib>=1.2.0 in c:\\users\\mdurr\\appdata\\local\\programs\\python\\python311\\lib\\site-packages (from scikit-learn) (1.4.0)\n",
      "Requirement already satisfied: threadpoolctl>=2.0.0 in c:\\users\\mdurr\\appdata\\local\\programs\\python\\python311\\lib\\site-packages (from scikit-learn) (3.4.0)\n"
     ]
    },
    {
     "name": "stderr",
     "output_type": "stream",
     "text": [
      "\n",
      "[notice] A new release of pip is available: 23.1.2 -> 24.0\n",
      "[notice] To update, run: python.exe -m pip install --upgrade pip\n"
     ]
    },
    {
     "name": "stdout",
     "output_type": "stream",
     "text": [
      "Requirement already satisfied: chess in c:\\users\\mdurr\\appdata\\local\\programs\\python\\python311\\lib\\site-packages (1.10.0)"
     ]
    },
    {
     "name": "stderr",
     "output_type": "stream",
     "text": [
      "\n",
      "[notice] A new release of pip is available: 23.1.2 -> 24.0\n",
      "[notice] To update, run: python.exe -m pip install --upgrade pip\n"
     ]
    },
    {
     "name": "stdout",
     "output_type": "stream",
     "text": [
      "\n",
      "Collecting category-encoders\n",
      "  Downloading category_encoders-2.6.3-py2.py3-none-any.whl (81 kB)\n",
      "                                              0.0/81.9 kB ? eta -:--:--\n",
      "     ---------------------------------------- 81.9/81.9 kB 2.3 MB/s eta 0:00:00\n",
      "Requirement already satisfied: numpy>=1.14.0 in c:\\users\\mdurr\\appdata\\local\\programs\\python\\python311\\lib\\site-packages (from category-encoders) (1.24.3)\n",
      "Requirement already satisfied: scikit-learn>=0.20.0 in c:\\users\\mdurr\\appdata\\local\\programs\\python\\python311\\lib\\site-packages (from category-encoders) (1.4.2)\n",
      "Requirement already satisfied: scipy>=1.0.0 in c:\\users\\mdurr\\appdata\\local\\programs\\python\\python311\\lib\\site-packages (from category-encoders) (1.13.0)\n",
      "Collecting statsmodels>=0.9.0 (from category-encoders)\n",
      "  Downloading statsmodels-0.14.2-cp311-cp311-win_amd64.whl (9.9 MB)\n",
      "                                              0.0/9.9 MB ? eta -:--:--\n",
      "                                              0.2/9.9 MB 5.3 MB/s eta 0:00:02\n",
      "     -                                        0.3/9.9 MB 3.5 MB/s eta 0:00:03\n",
      "     --                                       0.6/9.9 MB 4.6 MB/s eta 0:00:03\n",
      "     ---                                      1.0/9.9 MB 5.5 MB/s eta 0:00:02\n",
      "     -----                                    1.4/9.9 MB 6.1 MB/s eta 0:00:02\n",
      "     -------                                  1.8/9.9 MB 6.8 MB/s eta 0:00:02\n",
      "     ---------                                2.3/9.9 MB 7.4 MB/s eta 0:00:02\n",
      "     -----------                              2.8/9.9 MB 7.9 MB/s eta 0:00:01\n",
      "     -------------                            3.3/9.9 MB 8.1 MB/s eta 0:00:01\n",
      "     --------------                           3.6/9.9 MB 7.9 MB/s eta 0:00:01\n",
      "     ----------------                         4.0/9.9 MB 7.9 MB/s eta 0:00:01\n",
      "     ------------------                       4.5/9.9 MB 8.1 MB/s eta 0:00:01\n",
      "     -------------------                      4.9/9.9 MB 8.3 MB/s eta 0:00:01\n",
      "     ----------------------                   5.4/9.9 MB 8.5 MB/s eta 0:00:01\n",
      "     -----------------------                  5.9/9.9 MB 8.5 MB/s eta 0:00:01\n",
      "     -------------------------                6.3/9.9 MB 8.6 MB/s eta 0:00:01\n",
      "     ----------------------------             7.0/9.9 MB 8.6 MB/s eta 0:00:01\n",
      "     ------------------------------           7.5/9.9 MB 8.8 MB/s eta 0:00:01\n",
      "     ---------------------------------        8.2/9.9 MB 9.0 MB/s eta 0:00:01\n",
      "     ----------------------------------       8.6/9.9 MB 9.0 MB/s eta 0:00:01\n",
      "     ------------------------------------     9.1/9.9 MB 8.9 MB/s eta 0:00:01\n",
      "     ---------------------------------------  9.8/9.9 MB 9.1 MB/s eta 0:00:01\n",
      "     ---------------------------------------  9.9/9.9 MB 9.0 MB/s eta 0:00:01\n",
      "     ---------------------------------------- 9.9/9.9 MB 8.4 MB/s eta 0:00:00\n",
      "Requirement already satisfied: pandas>=1.0.5 in c:\\users\\mdurr\\appdata\\local\\programs\\python\\python311\\lib\\site-packages (from category-encoders) (2.1.4)\n",
      "Collecting patsy>=0.5.1 (from category-encoders)\n",
      "  Downloading patsy-0.5.6-py2.py3-none-any.whl (233 kB)\n",
      "                                              0.0/233.9 kB ? eta -:--:--\n",
      "     ------------------------------------- 233.9/233.9 kB 14.0 MB/s eta 0:00:00\n",
      "Requirement already satisfied: python-dateutil>=2.8.2 in c:\\users\\mdurr\\appdata\\local\\programs\\python\\python311\\lib\\site-packages (from pandas>=1.0.5->category-encoders) (2.8.2)\n",
      "Requirement already satisfied: pytz>=2020.1 in c:\\users\\mdurr\\appdata\\local\\programs\\python\\python311\\lib\\site-packages (from pandas>=1.0.5->category-encoders) (2023.3.post1)\n",
      "Requirement already satisfied: tzdata>=2022.1 in c:\\users\\mdurr\\appdata\\local\\programs\\python\\python311\\lib\\site-packages (from pandas>=1.0.5->category-encoders) (2023.4)\n",
      "Requirement already satisfied: six in c:\\users\\mdurr\\appdata\\local\\programs\\python\\python311\\lib\\site-packages (from patsy>=0.5.1->category-encoders) (1.16.0)\n",
      "Requirement already satisfied: joblib>=1.2.0 in c:\\users\\mdurr\\appdata\\local\\programs\\python\\python311\\lib\\site-packages (from scikit-learn>=0.20.0->category-encoders) (1.4.0)\n",
      "Requirement already satisfied: threadpoolctl>=2.0.0 in c:\\users\\mdurr\\appdata\\local\\programs\\python\\python311\\lib\\site-packages (from scikit-learn>=0.20.0->category-encoders) (3.4.0)\n",
      "Requirement already satisfied: packaging>=21.3 in c:\\users\\mdurr\\appdata\\local\\programs\\python\\python311\\lib\\site-packages (from statsmodels>=0.9.0->category-encoders) (23.2)\n",
      "Installing collected packages: patsy, statsmodels, category-encoders\n",
      "Successfully installed category-encoders-2.6.3 patsy-0.5.6 statsmodels-0.14.2\n"
     ]
    },
    {
     "name": "stderr",
     "output_type": "stream",
     "text": [
      "\n",
      "[notice] A new release of pip is available: 23.1.2 -> 24.0\n",
      "[notice] To update, run: python.exe -m pip install --upgrade pip\n"
     ]
    }
   ],
   "source": [
    "import sys\n",
    "!{sys.executable} -m pip install pandas\n",
    "!{sys.executable} -m pip install matplotlib\n",
    "!{sys.executable} -m pip install numpy\n",
    "!{sys.executable} -m pip install scikit-learn\n",
    "!{sys.executable} -m pip install chess\n",
    "!{sys.executable} -m pip install category-encoders"
   ]
  },
  {
   "cell_type": "markdown",
   "metadata": {},
   "source": [
    "## 3. About The Data"
   ]
  },
  {
   "cell_type": "markdown",
   "metadata": {},
   "source": [
    "## 4. Data Collection: Scraping"
   ]
  },
  {
   "cell_type": "code",
   "execution_count": null,
   "metadata": {},
   "outputs": [],
   "source": [
    "import chess.pgn\n",
    "import pandas as pd\n",
    "import glob\n",
    "import numpy as np\n",
    "\n",
    "#pgnFilePath =  r\"\\\\wsl.localhost\\Ubuntu\\home\\mdurrani\\lichess_db_standard_rated_2024-03.pgn\"\n",
    "pgnFilePath = r'./data/*.pgn'\n",
    "outputFilePath = \"./evaluations.csv\"\n",
    "totalGameCount = 0\n",
    "totalEvalGameCount = 0\n",
    "fileList = [] #glob.glob(pgnFilePath) # modify this line for the directory that has all the pgn files \n",
    "rows_list = [] # list of dictionaries for each game \n",
    "for file in fileList:\n",
    "    pgn = open(fileList[0])\n",
    "    game = chess.pgn.read_game(pgn)\n",
    "    while game != None:\n",
    "        totalGameCount += 1\n",
    "        variations = game.variations # list of either the eval or clock score\n",
    "        if(totalGameCount % 2000 == 0): # print every 2000 games\n",
    "            print(\"Total Game Count: \", totalGameCount)\n",
    "            print(\"Eval Game Count: \", totalEvalGameCount)\n",
    "        if(totalGameCount % 1000000 == 0):\n",
    "            df = pd.DataFrame(rows_list) # add everything to the dataframe \n",
    "            df.to_csv(outputFilePath)\n",
    "        if(len(variations) > 0 and 'eval' in variations[0].comment): # if this game was evaluated by a computer, add it\n",
    "            totalEvalGameCount+=1\n",
    "            h = game.headers\n",
    "                \n",
    "            # adding a dictionary is faster than appending to a dataframe \n",
    "            rows_list.append({\n",
    "                \"UTCDate\": h.get(\"UTCDate\", np.NaN),\n",
    "                \"UTCTime\": h.get(\"UTCTime\", np.NaN),\n",
    "                'WhiteElo': h.get('WhiteElo', np.NaN),\n",
    "                'BlackElo': h.get('BlackElo', np.NaN),\n",
    "                \"Opening\": h.get(\"Opening\", np.NaN),\n",
    "                \"ECO\": h.get(\"ECO\", np.NaN),\n",
    "                'Result': h.get('Result', np.NaN),\n",
    "                \"Termination\": h.get(\"Termination\", np.NaN),\n",
    "                \"Variations\": str(variations[0]) if variations else np.NaN,\n",
    "                'WhiteRatingDiff': h.get('WhiteRatingDiff', np.NaN),\n",
    "                'BlackRatingDiff': h.get(\"BlackRatingDiff\", np.NaN)\n",
    "            })\n",
    "\n",
    "        # Iterator reading next game\n",
    "        game = chess.pgn.read_game(pgn)          "
   ]
  },
  {
   "cell_type": "markdown",
   "metadata": {},
   "source": [
    "## 5. Data Processing: Cleaning"
   ]
  },
  {
   "cell_type": "code",
   "execution_count": 39,
   "metadata": {},
   "outputs": [
    {
     "name": "stdout",
     "output_type": "stream",
     "text": [
      "   ECO  Result  MistakeDifferential  TimeDifferential  EloDifferential\n",
      "0  B09     0.0                    2                26               97\n",
      "1  C33     1.0                   -1               -33             -128\n",
      "2  B12     1.0                   -3              -495              406\n",
      "3  B13     1.0                    1              -527              342\n",
      "4  C40     1.0                   -3               121              441\n"
     ]
    }
   ],
   "source": [
    "import pandas as pd \n",
    "import re\n",
    "\n",
    "# Read data back in from csv and ignore the first column because it just contains the indicies.\n",
    "# We only want white and black elo, opening category, result, and variations\n",
    "df= pd.read_csv(\"evaluations.csv\", usecols=[\"WhiteElo\", \"BlackElo\", \"ECO\", \"Result\", \"Variations\"])\n",
    "\n",
    "# All data will be from the perspective of white \n",
    "\n",
    "# Get mistake differential from a game\n",
    "def getMistakeDifferential(variation):\n",
    "    # Find all evaluations\n",
    "    evalText = re.findall(r'%eval -?\\d.\\d*', variation)\n",
    "    # Truncate text and get float eval value\n",
    "    evalList = []\n",
    "    for eval in evalText:\n",
    "        evalList.append(float(eval.split(\" \")[1]))\n",
    "\n",
    "    # Find the mistake differential for white\n",
    "    evalDifference = 0\n",
    "    numberOfWhiteMistakes = 0\n",
    "    numberOfBlackMistakes = 0\n",
    "    for i in range(len(evalList)):\n",
    "        if i != 0:\n",
    "            evalDifference = evalList[i] - evalList[i-1]\n",
    "        if abs(evalDifference) > 1:\n",
    "            if i % 2 == 0:\n",
    "                numberOfWhiteMistakes += 1\n",
    "            else:\n",
    "                numberOfBlackMistakes += 1\n",
    "    whiteMistakeDifferential = numberOfWhiteMistakes - numberOfBlackMistakes\n",
    "    return whiteMistakeDifferential\n",
    "\n",
    "# Get time differential from a game\n",
    "def getTimeDifferential(variation):\n",
    "    # Find all clock text\n",
    "    clockText = re.findall(r'%clk \\d:\\d{2}:\\d{2}', variation)\n",
    "    # Truncate text and get clock data in seconds\n",
    "    clockList = []\n",
    "    for clock in clockText:\n",
    "        time = clock.split(\" \")[1]\n",
    "        hr = int(time.split(\":\")[0])\n",
    "        min = int(time.split(\":\")[1])\n",
    "        sec = int(time.split(\":\")[2])\n",
    "        totalSeconds = hr * 3600 + min * 60 + sec\n",
    "        clockList.append(totalSeconds)\n",
    "\n",
    "    # Get clock differential\n",
    "    whiteTimeElapsed = 0\n",
    "    blackTimeElapsed = 0\n",
    "    # If less than 2 moves, then don't worry about calculating time elapsed\n",
    "    if len(clockList) >= 2:\n",
    "        whiteBeginClock = clockList[0]\n",
    "        blackBeginClock = clockList[1]\n",
    "        if len(clockList) % 2 == 0:\n",
    "            whiteEndClock = clockList[-2]\n",
    "            blackEndClock = clockList[-1]\n",
    "        else:\n",
    "            whiteEndClock = clockList[-1]\n",
    "            blackEndClock = clockList[-2]\n",
    "        whiteTimeElapsed = whiteBeginClock - whiteEndClock\n",
    "        blackTimeElapsed = blackBeginClock - blackEndClock\n",
    "\n",
    "    whiteTimeDifferential = whiteTimeElapsed - blackTimeElapsed\n",
    "\n",
    "    return whiteTimeDifferential\n",
    "\n",
    "# Turn string result into a number result \n",
    "def getResultForWhite(result):\n",
    "    if result == \"0-1\":\n",
    "        return 0\n",
    "    elif result == \"1-0\":\n",
    "        return 1\n",
    "    else:\n",
    "        return 0.5\n",
    "\n",
    "df[\"MistakeDifferential\"] = df[\"Variations\"].apply(getMistakeDifferential)\n",
    "\n",
    "df[\"TimeDifferential\"] = df[\"Variations\"].apply(getTimeDifferential)\n",
    "\n",
    "df[\"EloDifferential\"] = df[\"WhiteElo\"] - df[\"BlackElo\"]\n",
    "\n",
    "df[\"Result\"] = df[\"Result\"].apply(getResultForWhite)\n",
    "\n",
    "df = df.drop([\"Variations\", \"WhiteElo\", \"BlackElo\"], axis=1)\n",
    "\n",
    "print(df.head())"
   ]
  },
  {
   "cell_type": "markdown",
   "metadata": {},
   "source": [
    "## 6. Exploratory Data Analysis"
   ]
  },
  {
   "cell_type": "markdown",
   "metadata": {},
   "source": [
    "Let's plot the relationship between each of our differentials and the average result"
   ]
  },
  {
   "cell_type": "code",
   "execution_count": 61,
   "metadata": {},
   "outputs": [
    {
     "data": {
      "text/plain": [
       "Text(0, 0.5, 'Mean Result')"
      ]
     },
     "execution_count": 61,
     "metadata": {},
     "output_type": "execute_result"
    },
    {
     "data": {
      "image/png": "[encoded data removed]",
      "text/plain": [
       "<Figure size 1000x600 with 1 Axes>"
      ]
     },
     "metadata": {},
     "output_type": "display_data"
    }
   ],
   "source": [
    "import matplotlib.pyplot as plt\n",
    "bins =[-15,-10,-5,0,5,10,15]\n",
    "\n",
    "df[\"MistakeGroup\"] = pd.cut(df['MistakeDifferential'], bins=bins, precision=0)\n",
    "\n",
    "# Drop na values caused by values that don't fit the bins\n",
    "groups = df[\"MistakeGroup\"].dropna().unique().sort_values()\n",
    "\n",
    "x = range(len(groups))\n",
    "y = df.groupby(\"MistakeGroup\", observed=True)[\"Result\"].mean()\n",
    "plt.figure(figsize=(10,6))\n",
    "plt.bar(x, y)\n",
    "plt.xticks(range(len(groups)), groups)\n",
    "plt.xlabel('Mistake Differential Group')\n",
    "plt.ylabel('Mean Result')"
   ]
  },
  {
   "cell_type": "markdown",
   "metadata": {},
   "source": [
    "It seems that making less mistakes does influence winning. However, the graph does not show the straight correlation that was expected. This result may be due to mistakes varying in size: mistakes are classified as anything that changes the evaluation of the game by one or more, but regardless of the change in evaluation after 1, the mistakes are weighted the same. It seems that with a large mistake differential winning was less predictable. This is probably because the player with a mistake advantage must have made some very large mistakes."
   ]
  },
  {
   "cell_type": "code",
   "execution_count": 59,
   "metadata": {},
   "outputs": [
    {
     "data": {
      "text/plain": [
       "Text(0, 0.5, 'Mean Result')"
      ]
     },
     "execution_count": 59,
     "metadata": {},
     "output_type": "execute_result"
    },
    {
     "data": {
      "image/png": "[encoded data removed]",
      "text/plain": [
       "<Figure size 1000x600 with 1 Axes>"
      ]
     },
     "metadata": {},
     "output_type": "display_data"
    }
   ],
   "source": [
    "bins = [-1500,-1000,-500,0,500,1000,1500]\n",
    "df[\"EloGroup\"] = pd.cut(df['EloDifferential'], bins=bins, precision=0)\n",
    "\n",
    "# Drop na values caused by values that don't fit the bins\n",
    "groups = df[\"EloGroup\"].dropna().unique().sort_values()\n",
    "\n",
    "x = range(len(groups))\n",
    "y = df.groupby(\"EloGroup\", observed=True)[\"Result\"].mean()\n",
    "plt.figure(figsize=(10,6))\n",
    "plt.bar(x, y)\n",
    "\n",
    "plt.xticks(range(len(groups)), groups)\n",
    "plt.xlabel('Elo Differential Group')\n",
    "plt.ylabel('Mean Result')\n"
   ]
  },
  {
   "cell_type": "markdown",
   "metadata": {},
   "source": [
    "The Elo Differential graph shows that elo has a clear correlation towards winning. The greater the differential between the player and their opponent, the greater the chance of winning. However elo doesn't impact the game significantly, at least not within a differential range of -500 to 500. As long as players were in that elo range they were only at a less than 5% disadvantage/advantage. This is much different from the mistake graph where having the mistake advantage could increase chances of winning by more than 20%."
   ]
  },
  {
   "cell_type": "code",
   "execution_count": 63,
   "metadata": {},
   "outputs": [
    {
     "data": {
      "text/plain": [
       "Text(0, 0.5, 'Mean Result')"
      ]
     },
     "execution_count": 63,
     "metadata": {},
     "output_type": "execute_result"
    },
    {
     "data": {
      "image/png": "[encoded data removed]",
      "text/plain": [
       "<Figure size 1000x600 with 1 Axes>"
      ]
     },
     "metadata": {},
     "output_type": "display_data"
    }
   ],
   "source": [
    "bins = [-900,-600,-300,0,300,600,900]\n",
    "df[\"TimeGroup\"] = pd.cut(df['TimeDifferential'],bins=bins, precision= 0)\n",
    "\n",
    "# Drop na values caused by values that don't fit the bins\n",
    "groups = df[\"TimeGroup\"].dropna().unique().sort_values()\n",
    "\n",
    "x = range(len(groups))\n",
    "y = df.groupby(\"TimeGroup\", observed=True)[\"Result\"].mean()\n",
    "plt.figure(figsize=(10,6))\n",
    "plt.bar(x, y)\n",
    "plt.xticks(range(len(groups)), groups)\n",
    "plt.xlabel('Time Differential Group')\n",
    "plt.ylabel('Mean Result')"
   ]
  },
  {
   "cell_type": "markdown",
   "metadata": {},
   "source": [
    "According to the graph, it seems that the only factor that influences winning is whether the player has the time advantage, not the quantity of that advantage. This makes sense as games can be won on time, so a significant decline in results can be seen near 0. "
   ]
  },
  {
   "cell_type": "markdown",
   "metadata": {},
   "source": [
    "## 7. Machine Learning"
   ]
  },
  {
   "cell_type": "code",
   "execution_count": 22,
   "metadata": {},
   "outputs": [
    {
     "ename": "KeyError",
     "evalue": "\"['Result'] not found in axis\"",
     "output_type": "error",
     "traceback": [
      "\u001b[0;31m---------------------------------------------------------------------------\u001b[0m",
      "\u001b[0;31mKeyError\u001b[0m                                  Traceback (most recent call last)",
      "Cell \u001b[0;32mIn[22], line 16\u001b[0m\n\u001b[1;32m     11\u001b[0m trainingDf \u001b[38;5;241m=\u001b[39m trainingDf\u001b[38;5;241m.\u001b[39mjoin(bin_enc_df)\n\u001b[1;32m     13\u001b[0m \u001b[38;5;66;03m# Encode results into trainable data Use ONE HOT encoding\u001b[39;00m\n\u001b[0;32m---> 16\u001b[0m X \u001b[38;5;241m=\u001b[39m trainingDf\u001b[38;5;241m.\u001b[39mdrop(\u001b[38;5;124m\"\u001b[39m\u001b[38;5;124mResult\u001b[39m\u001b[38;5;124m\"\u001b[39m)\n\u001b[1;32m     17\u001b[0m y \u001b[38;5;241m=\u001b[39m trainingDf[\u001b[38;5;124m'\u001b[39m\u001b[38;5;124mResult\u001b[39m\u001b[38;5;124m'\u001b[39m]\n\u001b[1;32m     19\u001b[0m X_train, X_test, y_train, y_test \u001b[38;5;241m=\u001b[39m train_test_split(X, y, test_size\u001b[38;5;241m=\u001b[39m\u001b[38;5;241m0.2\u001b[39m, random_state\u001b[38;5;241m=\u001b[39m\u001b[38;5;241m42\u001b[39m)\n",
      "File \u001b[0;32m~/anaconda3/lib/python3.11/site-packages/pandas/core/frame.py:5568\u001b[0m, in \u001b[0;36mDataFrame.drop\u001b[0;34m(self, labels, axis, index, columns, level, inplace, errors)\u001b[0m\n\u001b[1;32m   5420\u001b[0m \u001b[38;5;28;01mdef\u001b[39;00m \u001b[38;5;21mdrop\u001b[39m(\n\u001b[1;32m   5421\u001b[0m     \u001b[38;5;28mself\u001b[39m,\n\u001b[1;32m   5422\u001b[0m     labels: IndexLabel \u001b[38;5;241m|\u001b[39m \u001b[38;5;28;01mNone\u001b[39;00m \u001b[38;5;241m=\u001b[39m \u001b[38;5;28;01mNone\u001b[39;00m,\n\u001b[0;32m   (...)\u001b[0m\n\u001b[1;32m   5429\u001b[0m     errors: IgnoreRaise \u001b[38;5;241m=\u001b[39m \u001b[38;5;124m\"\u001b[39m\u001b[38;5;124mraise\u001b[39m\u001b[38;5;124m\"\u001b[39m,\n\u001b[1;32m   5430\u001b[0m ) \u001b[38;5;241m-\u001b[39m\u001b[38;5;241m>\u001b[39m DataFrame \u001b[38;5;241m|\u001b[39m \u001b[38;5;28;01mNone\u001b[39;00m:\n\u001b[1;32m   5431\u001b[0m \u001b[38;5;250m    \u001b[39m\u001b[38;5;124;03m\"\"\"\u001b[39;00m\n\u001b[1;32m   5432\u001b[0m \u001b[38;5;124;03m    Drop specified labels from rows or columns.\u001b[39;00m\n\u001b[1;32m   5433\u001b[0m \n\u001b[0;32m   (...)\u001b[0m\n\u001b[1;32m   5566\u001b[0m \u001b[38;5;124;03m            weight  1.0     0.8\u001b[39;00m\n\u001b[1;32m   5567\u001b[0m \u001b[38;5;124;03m    \"\"\"\u001b[39;00m\n\u001b[0;32m-> 5568\u001b[0m     \u001b[38;5;28;01mreturn\u001b[39;00m \u001b[38;5;28msuper\u001b[39m()\u001b[38;5;241m.\u001b[39mdrop(\n\u001b[1;32m   5569\u001b[0m         labels\u001b[38;5;241m=\u001b[39mlabels,\n\u001b[1;32m   5570\u001b[0m         axis\u001b[38;5;241m=\u001b[39maxis,\n\u001b[1;32m   5571\u001b[0m         index\u001b[38;5;241m=\u001b[39mindex,\n\u001b[1;32m   5572\u001b[0m         columns\u001b[38;5;241m=\u001b[39mcolumns,\n\u001b[1;32m   5573\u001b[0m         level\u001b[38;5;241m=\u001b[39mlevel,\n\u001b[1;32m   5574\u001b[0m         inplace\u001b[38;5;241m=\u001b[39minplace,\n\u001b[1;32m   5575\u001b[0m         errors\u001b[38;5;241m=\u001b[39merrors,\n\u001b[1;32m   5576\u001b[0m     )\n",
      "File \u001b[0;32m~/anaconda3/lib/python3.11/site-packages/pandas/core/generic.py:4785\u001b[0m, in \u001b[0;36mNDFrame.drop\u001b[0;34m(self, labels, axis, index, columns, level, inplace, errors)\u001b[0m\n\u001b[1;32m   4783\u001b[0m \u001b[38;5;28;01mfor\u001b[39;00m axis, labels \u001b[38;5;129;01min\u001b[39;00m axes\u001b[38;5;241m.\u001b[39mitems():\n\u001b[1;32m   4784\u001b[0m     \u001b[38;5;28;01mif\u001b[39;00m labels \u001b[38;5;129;01mis\u001b[39;00m \u001b[38;5;129;01mnot\u001b[39;00m \u001b[38;5;28;01mNone\u001b[39;00m:\n\u001b[0;32m-> 4785\u001b[0m         obj \u001b[38;5;241m=\u001b[39m obj\u001b[38;5;241m.\u001b[39m_drop_axis(labels, axis, level\u001b[38;5;241m=\u001b[39mlevel, errors\u001b[38;5;241m=\u001b[39merrors)\n\u001b[1;32m   4787\u001b[0m \u001b[38;5;28;01mif\u001b[39;00m inplace:\n\u001b[1;32m   4788\u001b[0m     \u001b[38;5;28mself\u001b[39m\u001b[38;5;241m.\u001b[39m_update_inplace(obj)\n",
      "File \u001b[0;32m~/anaconda3/lib/python3.11/site-packages/pandas/core/generic.py:4827\u001b[0m, in \u001b[0;36mNDFrame._drop_axis\u001b[0;34m(self, labels, axis, level, errors, only_slice)\u001b[0m\n\u001b[1;32m   4825\u001b[0m         new_axis \u001b[38;5;241m=\u001b[39m axis\u001b[38;5;241m.\u001b[39mdrop(labels, level\u001b[38;5;241m=\u001b[39mlevel, errors\u001b[38;5;241m=\u001b[39merrors)\n\u001b[1;32m   4826\u001b[0m     \u001b[38;5;28;01melse\u001b[39;00m:\n\u001b[0;32m-> 4827\u001b[0m         new_axis \u001b[38;5;241m=\u001b[39m axis\u001b[38;5;241m.\u001b[39mdrop(labels, errors\u001b[38;5;241m=\u001b[39merrors)\n\u001b[1;32m   4828\u001b[0m     indexer \u001b[38;5;241m=\u001b[39m axis\u001b[38;5;241m.\u001b[39mget_indexer(new_axis)\n\u001b[1;32m   4830\u001b[0m \u001b[38;5;66;03m# Case for non-unique axis\u001b[39;00m\n\u001b[1;32m   4831\u001b[0m \u001b[38;5;28;01melse\u001b[39;00m:\n",
      "File \u001b[0;32m~/anaconda3/lib/python3.11/site-packages/pandas/core/indexes/base.py:7070\u001b[0m, in \u001b[0;36mIndex.drop\u001b[0;34m(self, labels, errors)\u001b[0m\n\u001b[1;32m   7068\u001b[0m \u001b[38;5;28;01mif\u001b[39;00m mask\u001b[38;5;241m.\u001b[39many():\n\u001b[1;32m   7069\u001b[0m     \u001b[38;5;28;01mif\u001b[39;00m errors \u001b[38;5;241m!=\u001b[39m \u001b[38;5;124m\"\u001b[39m\u001b[38;5;124mignore\u001b[39m\u001b[38;5;124m\"\u001b[39m:\n\u001b[0;32m-> 7070\u001b[0m         \u001b[38;5;28;01mraise\u001b[39;00m \u001b[38;5;167;01mKeyError\u001b[39;00m(\u001b[38;5;124mf\u001b[39m\u001b[38;5;124m\"\u001b[39m\u001b[38;5;132;01m{\u001b[39;00mlabels[mask]\u001b[38;5;241m.\u001b[39mtolist()\u001b[38;5;132;01m}\u001b[39;00m\u001b[38;5;124m not found in axis\u001b[39m\u001b[38;5;124m\"\u001b[39m)\n\u001b[1;32m   7071\u001b[0m     indexer \u001b[38;5;241m=\u001b[39m indexer[\u001b[38;5;241m~\u001b[39mmask]\n\u001b[1;32m   7072\u001b[0m \u001b[38;5;28;01mreturn\u001b[39;00m \u001b[38;5;28mself\u001b[39m\u001b[38;5;241m.\u001b[39mdelete(indexer)\n",
      "\u001b[0;31mKeyError\u001b[0m: \"['Result'] not found in axis\""
     ]
    }
   ],
   "source": [
    "from sklearn import preprocessing\n",
    "import category_encoders as ce\n",
    "from sklearn.ensemble import RandomForestClassifier\n",
    "from sklearn.model_selection import train_test_split\n",
    "\n",
    "trainingDf = df.loc[:,[\"MistakeDifferential\", \"TimeDifferential\", \"EloDifferential\", \"Result\"]]\n",
    "\n",
    "# Encode openings into trainable data\n",
    "label_encoder = ce.BinaryEncoder()\n",
    "bin_enc_df = label_encoder.fit_transform(df[\"ECO\"])\n",
    "trainingDf = trainingDf.join(bin_enc_df)\n",
    "\n",
    "# Encode results into trainable data Use ONE HOT encoding\n",
    "\n",
    "\n",
    "X = trainingDf.drop(\"Result\")\n",
    "y = trainingDf['Result']\n",
    "\n",
    "X_train, X_test, y_train, y_test = train_test_split(X, y, test_size=0.2, random_state=42)\n",
    "\n",
    "model = RandomForestClassifier()\n",
    "model.fit(X_train, y_train)\n",
    "\n",
    "predictions = model.predict(X_test)"
   ]
  },
  {
   "cell_type": "markdown",
   "metadata": {},
   "source": [
    "## 8. Future Work and Considerations"
   ]
  },
  {
   "cell_type": "markdown",
   "metadata": {},
   "source": [
    "## 9. References and Additional Resources"
   ]
  },
  {
   "cell_type": "code",
   "execution_count": null,
   "metadata": {},
   "outputs": [],
   "source": []
  }
 ],
 "metadata": {
  "kernelspec": {
   "display_name": "Python 3 (ipykernel)",
   "language": "python",
   "name": "python3"
  },
  "language_info": {
   "codemirror_mode": {
    "name": "ipython",
    "version": 3
   },
   "file_extension": ".py",
   "mimetype": "text/x-python",
   "name": "python",
   "nbconvert_exporter": "python",
   "pygments_lexer": "ipython3",
   "version": "3.11.5"
  }
 },
 "nbformat": 4,
 "nbformat_minor": 2
}
